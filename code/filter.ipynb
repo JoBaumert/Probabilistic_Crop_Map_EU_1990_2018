{
 "cells": [
  {
   "cell_type": "code",
   "execution_count": 1,
   "metadata": {},
   "outputs": [],
   "source": [
    "import pandas as pd"
   ]
  },
  {
   "cell_type": "code",
   "execution_count": 12,
   "metadata": {},
   "outputs": [],
   "source": [
    "cleaned_csv_file = 'cleaned_csv_file.csv'\n",
    "code_csv_file = 'relevant_eurostat_codes.csv'\n",
    "output_file = 'filtered_final.csv'"
   ]
  },
  {
   "cell_type": "code",
   "execution_count": 13,
   "metadata": {},
   "outputs": [],
   "source": [
    "cleaned_data = pd.read_csv(cleaned_csv_file)\n",
    "\n",
    "code_data = pd.read_csv(code_csv_file)"
   ]
  },
  {
   "cell_type": "code",
   "execution_count": 14,
   "metadata": {},
   "outputs": [],
   "source": [
    "# trimming whitespaces\n",
    "cleaned_data['2'] = cleaned_data['2'].astype(str).str.strip()\n",
    "code_data['CAPRI_code'] = code_data['CAPRI_code'].astype(str).str.strip()"
   ]
  },
  {
   "cell_type": "code",
   "execution_count": 15,
   "metadata": {},
   "outputs": [],
   "source": [
    "# fltering\n",
    "filtered_data = cleaned_data[cleaned_data['2'].isin(code_data['CAPRI_code'])]"
   ]
  },
  {
   "cell_type": "code",
   "execution_count": 16,
   "metadata": {},
   "outputs": [
    {
     "name": "stdout",
     "output_type": "stream",
     "text": [
      "Filtered data saved to filtered_final.csv\n"
     ]
    }
   ],
   "source": [
    "filtered_data.to_csv(output_file, index=False)\n",
    "\n",
    "print(f\"Filtered data saved to {output_file}\")"
   ]
  },
  {
   "cell_type": "code",
   "execution_count": 17,
   "metadata": {},
   "outputs": [
    {
     "data": {
      "text/plain": [
       "16"
      ]
     },
     "execution_count": 17,
     "metadata": {},
     "output_type": "execute_result"
    }
   ],
   "source": [
    "import gc\n",
    "del cleaned_data\n",
    "del code_data\n",
    "del filtered_data\n",
    "gc.collect()"
   ]
  },
  {
   "cell_type": "code",
   "execution_count": 18,
   "metadata": {},
   "outputs": [
    {
     "name": "stderr",
     "output_type": "stream",
     "text": [
      "C:\\Users\\siddh\\AppData\\Local\\Temp\\ipykernel_14720\\1639132379.py:1: DtypeWarning: Columns (4) have mixed types. Specify dtype option on import or set low_memory=False.\n",
      "  filtered = pd.read_csv('filtered_final.csv')\n"
     ]
    }
   ],
   "source": [
    "filtered = pd.read_csv('filtered_final.csv')"
   ]
  },
  {
   "cell_type": "code",
   "execution_count": 19,
   "metadata": {},
   "outputs": [
    {
     "data": {
      "text/html": [
       "<div>\n",
       "<style scoped>\n",
       "    .dataframe tbody tr th:only-of-type {\n",
       "        vertical-align: middle;\n",
       "    }\n",
       "\n",
       "    .dataframe tbody tr th {\n",
       "        vertical-align: top;\n",
       "    }\n",
       "\n",
       "    .dataframe thead th {\n",
       "        text-align: right;\n",
       "    }\n",
       "</style>\n",
       "<table border=\"1\" class=\"dataframe\">\n",
       "  <thead>\n",
       "    <tr style=\"text-align: right;\">\n",
       "      <th></th>\n",
       "      <th>1</th>\n",
       "      <th>2</th>\n",
       "      <th>3</th>\n",
       "      <th>4</th>\n",
       "      <th>5</th>\n",
       "    </tr>\n",
       "  </thead>\n",
       "  <tbody>\n",
       "    <tr>\n",
       "      <th>0</th>\n",
       "      <td>BL000000</td>\n",
       "      <td>SWHE</td>\n",
       "      <td>SWHE</td>\n",
       "      <td>1984</td>\n",
       "      <td>6912.9917949893</td>\n",
       "    </tr>\n",
       "    <tr>\n",
       "      <th>1</th>\n",
       "      <td>BL000000</td>\n",
       "      <td>SWHE</td>\n",
       "      <td>SWHE</td>\n",
       "      <td>1985</td>\n",
       "      <td>6312.0309583878</td>\n",
       "    </tr>\n",
       "    <tr>\n",
       "      <th>2</th>\n",
       "      <td>BL000000</td>\n",
       "      <td>SWHE</td>\n",
       "      <td>SWHE</td>\n",
       "      <td>1986</td>\n",
       "      <td>6756.4108458386</td>\n",
       "    </tr>\n",
       "    <tr>\n",
       "      <th>3</th>\n",
       "      <td>BL000000</td>\n",
       "      <td>SWHE</td>\n",
       "      <td>SWHE</td>\n",
       "      <td>1987</td>\n",
       "      <td>5591.1757606412</td>\n",
       "    </tr>\n",
       "    <tr>\n",
       "      <th>4</th>\n",
       "      <td>BL000000</td>\n",
       "      <td>SWHE</td>\n",
       "      <td>SWHE</td>\n",
       "      <td>1988</td>\n",
       "      <td>6008.8761172850</td>\n",
       "    </tr>\n",
       "  </tbody>\n",
       "</table>\n",
       "</div>"
      ],
      "text/plain": [
       "          1     2     3     4                5\n",
       "0  BL000000  SWHE  SWHE  1984  6912.9917949893\n",
       "1  BL000000  SWHE  SWHE  1985  6312.0309583878\n",
       "2  BL000000  SWHE  SWHE  1986  6756.4108458386\n",
       "3  BL000000  SWHE  SWHE  1987  5591.1757606412\n",
       "4  BL000000  SWHE  SWHE  1988  6008.8761172850"
      ]
     },
     "execution_count": 19,
     "metadata": {},
     "output_type": "execute_result"
    }
   ],
   "source": [
    "filtered.head()"
   ]
  },
  {
   "cell_type": "code",
   "execution_count": 20,
   "metadata": {},
   "outputs": [
    {
     "data": {
      "text/html": [
       "<div>\n",
       "<style scoped>\n",
       "    .dataframe tbody tr th:only-of-type {\n",
       "        vertical-align: middle;\n",
       "    }\n",
       "\n",
       "    .dataframe tbody tr th {\n",
       "        vertical-align: top;\n",
       "    }\n",
       "\n",
       "    .dataframe thead th {\n",
       "        text-align: right;\n",
       "    }\n",
       "</style>\n",
       "<table border=\"1\" class=\"dataframe\">\n",
       "  <thead>\n",
       "    <tr style=\"text-align: right;\">\n",
       "      <th></th>\n",
       "      <th>1</th>\n",
       "      <th>2</th>\n",
       "      <th>3</th>\n",
       "      <th>4</th>\n",
       "      <th>5</th>\n",
       "    </tr>\n",
       "  </thead>\n",
       "  <tbody>\n",
       "    <tr>\n",
       "      <th>7938903</th>\n",
       "      <td>TRC00000</td>\n",
       "      <td>OILS</td>\n",
       "      <td>MINR</td>\n",
       "      <td>2014</td>\n",
       "      <td>79.809351289700</td>\n",
       "    </tr>\n",
       "    <tr>\n",
       "      <th>7938904</th>\n",
       "      <td>TRC00000</td>\n",
       "      <td>OILS</td>\n",
       "      <td>MINR</td>\n",
       "      <td>2015</td>\n",
       "      <td>81.216572637520</td>\n",
       "    </tr>\n",
       "    <tr>\n",
       "      <th>7938905</th>\n",
       "      <td>TRC00000</td>\n",
       "      <td>OILS</td>\n",
       "      <td>MINR</td>\n",
       "      <td>2016</td>\n",
       "      <td>81.899871660664</td>\n",
       "    </tr>\n",
       "    <tr>\n",
       "      <th>7938906</th>\n",
       "      <td>TRC00000</td>\n",
       "      <td>OILS</td>\n",
       "      <td>MINR</td>\n",
       "      <td>2017</td>\n",
       "      <td>82.837316370998</td>\n",
       "    </tr>\n",
       "    <tr>\n",
       "      <th>7938907</th>\n",
       "      <td>TRC00000</td>\n",
       "      <td>OILS</td>\n",
       "      <td>MINR</td>\n",
       "      <td>2018</td>\n",
       "      <td>80.93133242748</td>\n",
       "    </tr>\n",
       "  </tbody>\n",
       "</table>\n",
       "</div>"
      ],
      "text/plain": [
       "                1     2     3     4                5\n",
       "7938903  TRC00000  OILS  MINR  2014  79.809351289700\n",
       "7938904  TRC00000  OILS  MINR  2015  81.216572637520\n",
       "7938905  TRC00000  OILS  MINR  2016  81.899871660664\n",
       "7938906  TRC00000  OILS  MINR  2017  82.837316370998\n",
       "7938907  TRC00000  OILS  MINR  2018   80.93133242748"
      ]
     },
     "execution_count": 20,
     "metadata": {},
     "output_type": "execute_result"
    }
   ],
   "source": [
    "filtered.tail()"
   ]
  },
  {
   "cell_type": "code",
   "execution_count": 21,
   "metadata": {},
   "outputs": [
    {
     "data": {
      "text/plain": [
       "64"
      ]
     },
     "execution_count": 21,
     "metadata": {},
     "output_type": "execute_result"
    }
   ],
   "source": [
    "del filtered\n",
    "gc.collect()"
   ]
  },
  {
   "cell_type": "code",
   "execution_count": null,
   "metadata": {},
   "outputs": [],
   "source": []
  }
 ],
 "metadata": {
  "kernelspec": {
   "display_name": "Python 3",
   "language": "python",
   "name": "python3"
  },
  "language_info": {
   "codemirror_mode": {
    "name": "ipython",
    "version": 3
   },
   "file_extension": ".py",
   "mimetype": "text/x-python",
   "name": "python",
   "nbconvert_exporter": "python",
   "pygments_lexer": "ipython3",
   "version": "3.10.0"
  }
 },
 "nbformat": 4,
 "nbformat_minor": 2
}
